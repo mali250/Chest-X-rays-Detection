{
 "cells": [
  {
   "cell_type": "code",
   "execution_count": 1,
   "metadata": {
    "id": "fphQeFY2mQdZ"
   },
   "outputs": [],
   "source": [
    "import os , shutil \n",
    "\n",
    "original_train_dataset_dir = 'C:/Users/Muazzam/Desktop/X-RAYS REPORTS'   #adding sub (train) at the end \n",
    "#original_test_dataset_dir = '/Users//test1'    #adding sub (test1) at the end\n",
    " \n",
    "#creating new folder \n",
    "\n",
    "base_dir = 'C:/Users/Muazzam/Desktop/dataset2'  \n",
    "os.mkdir(base_dir)\n",
    "\n",
    "\n",
    "#creating 3 sub folders \n",
    "\n",
    "train_dir = os.path.join(base_dir, 'train')\n",
    "os.mkdir(train_dir)\n",
    "validation_dir = os.path.join(base_dir, 'validation')\n",
    "os.mkdir(validation_dir)\n",
    "test_dir = os.path.join(base_dir, 'test')\n",
    "os.mkdir(test_dir)"
   ]
  },
  {
   "cell_type": "code",
   "execution_count": 4,
   "metadata": {
    "id": "h_WSjw0GmQdq"
   },
   "outputs": [],
   "source": [
    "#creating a folder \"covid\" inside the \"train\" folder \n",
    "\n",
    "train_covid_dir = os.path.join(train_dir, 'covid')\n",
    "os.mkdir(train_covid_dir)\n",
    "\n",
    "#creating a folder \"normal\" inside the \"train\" folder\n",
    "\n",
    "train_normal_dir = os.path.join(train_dir, 'normal')\n",
    "os.mkdir(train_normal_dir)\n",
    "\n",
    "train_pneumonia_dir = os.path.join(train_dir, 'pneumonia')\n",
    "os.mkdir(train_pneumonia_dir)"
   ]
  },
  {
   "cell_type": "code",
   "execution_count": null,
   "metadata": {},
   "outputs": [],
   "source": []
  },
  {
   "cell_type": "code",
   "execution_count": 7,
   "metadata": {
    "id": "pShyOeEVmQdt"
   },
   "outputs": [],
   "source": [
    "#creating a folder \"covid\" inside the \"validation\" folder \n",
    "\n",
    "validation_covid_dir = os.path.join(validation_dir, 'covid')\n",
    "os.mkdir(validation_covid_dir)\n",
    "\n",
    "#creating a folder \"normal\" inside the \"validation\" folder\n",
    "\n",
    "validation_normal_dir = os.path.join(validation_dir, 'normal')\n",
    "os.mkdir(validation_normal_dir)\n",
    "\n",
    "#creating a folder \"pneumonia\" inside the \"validation\" folder\n",
    "\n",
    "validation_pneumonia_dir = os.path.join(validation_dir, 'pneumonia')\n",
    "os.mkdir(validation_pneumonia_dir)"
   ]
  },
  {
   "cell_type": "code",
   "execution_count": 10,
   "metadata": {
    "id": "jTZs9euxmQdw"
   },
   "outputs": [],
   "source": [
    "#creating a folder \"covid\" inside the \"test\" folder\n",
    "\n",
    "test_covid_dir = os.path.join(test_dir, 'covid')\n",
    "os.mkdir(test_covid_dir)\n",
    "\n",
    "#creating a folder \"normal\" inside the \"test\" folder\n",
    "\n",
    "test_normal_dir = os.path.join(test_dir, 'normal')\n",
    "os.mkdir(test_normal_dir)\n",
    "\n",
    "#creating a folder \"pneumonia\" inside the \"test\" folder\n",
    "\n",
    "test_pneumonia_dir = os.path.join(test_dir, 'pneumonia')\n",
    "os.mkdir(test_pneumonia_dir)"
   ]
  },
  {
   "cell_type": "code",
   "execution_count": 13,
   "metadata": {
    "id": "VLV58QDImQd0"
   },
   "outputs": [],
   "source": [
    "#copying first 1000 images of covid for training in \"main folder --> train --> covid\" folder \n",
    "\n",
    "#fnames = ['covid.{}.jpg'.format(i) for i in range(1000)]\n"
   ]
  },
  {
   "cell_type": "code",
   "execution_count": 14,
   "metadata": {},
   "outputs": [],
   "source": [
    "import os\n",
    "relevant_path = \"C:/Users/Muazzam/Desktop/X-RAYS REPORTS/covid\"\n",
    "included_extensions = ['jpg','jpeg', 'bmp', 'png', 'gif']\n",
    "file_names = [fn for fn in os.listdir(relevant_path)\n",
    "              if any(fn.endswith(ext) for ext in included_extensions)]"
   ]
  },
  {
   "cell_type": "code",
   "execution_count": 15,
   "metadata": {},
   "outputs": [
    {
     "data": {
      "text/plain": [
       "2000"
      ]
     },
     "execution_count": 15,
     "metadata": {},
     "output_type": "execute_result"
    }
   ],
   "source": [
    "len(file_names)"
   ]
  },
  {
   "cell_type": "code",
   "execution_count": 16,
   "metadata": {},
   "outputs": [],
   "source": [
    "#copying first 1000 images of covid for training in \"main folder --> train --> covid\" folder \n",
    "for fname in file_names[0:1000]:\n",
    "        src = os.path.join(original_train_dataset_dir+\"/covid/\"+fname)\n",
    "        dst = os.path.join(train_covid_dir, fname)\n",
    "        shutil.copyfile(src, dst)"
   ]
  },
  {
   "cell_type": "code",
   "execution_count": 17,
   "metadata": {
    "id": "S2sX54iemQd2"
   },
   "outputs": [],
   "source": [
    "#copying 500 images for validation after the series of 1000 images of covid in \"main folder --> validation --> covid\" folder\n",
    "\n",
    "for fname in file_names[1000:1500]:\n",
    "        src = os.path.join(original_train_dataset_dir+\"/covid/\"+fname)\n",
    "        dst = os.path.join(validation_covid_dir, fname)\n",
    "        shutil.copyfile(src, dst)"
   ]
  },
  {
   "cell_type": "code",
   "execution_count": 18,
   "metadata": {
    "id": "ChzS6srBmQd3"
   },
   "outputs": [],
   "source": [
    "#copying 500 images for testing after the series of 1500 images of covid in \"main folder --> test--> covid\" folder\n",
    "\n",
    "for fname in file_names[1500:2000]:\n",
    "    src = os.path.join(original_train_dataset_dir+\"/covid/\"+fname)\n",
    "    dst = os.path.join(test_covid_dir, fname)\n",
    "    shutil.copyfile(src, dst)"
   ]
  },
  {
   "cell_type": "code",
   "execution_count": 19,
   "metadata": {},
   "outputs": [],
   "source": [
    "relevant_path = \"C:/Users/Muazzam/Desktop/X-RAYS REPORTS/normal\"\n",
    "included_extensions = ['jpg','jpeg', 'bmp', 'png', 'gif']\n",
    "file_names_normal = [fn for fn in os.listdir(relevant_path)\n",
    "              if any(fn.endswith(ext) for ext in included_extensions)]"
   ]
  },
  {
   "cell_type": "code",
   "execution_count": 20,
   "metadata": {},
   "outputs": [
    {
     "data": {
      "text/plain": [
       "2000"
      ]
     },
     "execution_count": 20,
     "metadata": {},
     "output_type": "execute_result"
    }
   ],
   "source": [
    "len(file_names_normal)"
   ]
  },
  {
   "cell_type": "code",
   "execution_count": 21,
   "metadata": {
    "id": "6nUkTMUXmQd4"
   },
   "outputs": [],
   "source": [
    "#copying first 1000 images of normal for training in \"main folder --> train --> normal\" folder \n",
    "\n",
    "for fname in file_names_normal[0:1000]:\n",
    "        src = os.path.join(original_train_dataset_dir+\"/normal/\"+fname)\n",
    "        dst = os.path.join(train_normal_dir, fname)\n",
    "        shutil.copyfile(src, dst)\n"
   ]
  },
  {
   "cell_type": "code",
   "execution_count": 22,
   "metadata": {
    "id": "wQ6U_cywmQd5"
   },
   "outputs": [],
   "source": [
    "#copying 500 images for validation after the series of 1000 images of normal in \"main folder --> validation --> normal\" folder\n",
    "\n",
    "for fname in file_names_normal[1000:1500]:\n",
    "        src = os.path.join(original_train_dataset_dir+\"/normal/\"+fname)\n",
    "        dst = os.path.join(validation_normal_dir, fname)\n",
    "        shutil.copyfile(src, dst)"
   ]
  },
  {
   "cell_type": "code",
   "execution_count": 23,
   "metadata": {
    "id": "GdxRJaMimQd5"
   },
   "outputs": [],
   "source": [
    "#copying 500 images for testing after the series of 1500 images of normal in \"main folder --> test--> normal\" folder\n",
    "\n",
    "for fname in file_names_normal[1500:2000]:\n",
    "        src = os.path.join(original_train_dataset_dir+\"/normal/\"+fname)\n",
    "        dst = os.path.join(test_normal_dir, fname)\n",
    "        shutil.copyfile(src, dst)"
   ]
  },
  {
   "cell_type": "code",
   "execution_count": 24,
   "metadata": {},
   "outputs": [],
   "source": [
    "import os\n",
    "relevant_path = \"C:/Users/Muazzam/Desktop/X-RAYS REPORTS/pneumonia\"\n",
    "included_extensions = ['jpg','jpeg', 'bmp', 'png', 'gif']\n",
    "file_names = [fn for fn in os.listdir(relevant_path)\n",
    "              if any(fn.endswith(ext) for ext in included_extensions)]"
   ]
  },
  {
   "cell_type": "code",
   "execution_count": 25,
   "metadata": {},
   "outputs": [
    {
     "data": {
      "text/plain": [
       "2003"
      ]
     },
     "execution_count": 25,
     "metadata": {},
     "output_type": "execute_result"
    }
   ],
   "source": [
    "len(file_names)"
   ]
  },
  {
   "cell_type": "code",
   "execution_count": 26,
   "metadata": {},
   "outputs": [],
   "source": [
    "#copying first 1000 images of covid for training in \"main folder --> train --> covid\" folder \n",
    "for fname in file_names[0:1000]:\n",
    "        src = os.path.join(original_train_dataset_dir+\"/pneumonia/\"+fname)\n",
    "        dst = os.path.join(train_pneumonia_dir, fname)\n",
    "        shutil.copyfile(src, dst)"
   ]
  },
  {
   "cell_type": "code",
   "execution_count": 27,
   "metadata": {},
   "outputs": [],
   "source": [
    "#copying 500 images for validation after the series of 1000 images of covid in \"main folder --> validation --> covid\" folder\n",
    "\n",
    "for fname in file_names[1000:1500]:\n",
    "        src = os.path.join(original_train_dataset_dir+\"/pneumonia/\"+fname)\n",
    "        dst = os.path.join(validation_pneumonia_dir, fname)\n",
    "        shutil.copyfile(src, dst)"
   ]
  },
  {
   "cell_type": "code",
   "execution_count": 28,
   "metadata": {},
   "outputs": [],
   "source": [
    "#copying 500 images for testing after the series of 1500 images of covid in \"main folder --> test--> covid\" folder\n",
    "\n",
    "for fname in file_names[1500:2000]:\n",
    "    src = os.path.join(original_train_dataset_dir+\"/pneumonia/\"+fname)\n",
    "    dst = os.path.join(test_pneumonia_dir, fname)\n",
    "    shutil.copyfile(src, dst)"
   ]
  },
  {
   "cell_type": "code",
   "execution_count": null,
   "metadata": {},
   "outputs": [],
   "source": []
  },
  {
   "cell_type": "code",
   "execution_count": 29,
   "metadata": {
    "id": "yVOA3kEQmQd6"
   },
   "outputs": [
    {
     "name": "stdout",
     "output_type": "stream",
     "text": [
      "total training covid images: 1000\n",
      "total training normal images: 1000\n",
      "total training pneumonia images: 1000\n"
     ]
    }
   ],
   "source": [
    "print('total training covid images:', len(os.listdir(train_covid_dir)))\n",
    "print('total training normal images:', len(os.listdir(train_normal_dir))) \n",
    "print('total training pneumonia images:', len(os.listdir(train_pneumonia_dir))) "
   ]
  },
  {
   "cell_type": "markdown",
   "metadata": {
    "id": "TXTyaLi2mQd8"
   },
   "source": [
    "### print('total validation covid mages:', len(os.listdir(validation_covid_dir)))\n",
    "print('total validation normal images:', len(os.listdir(validation_normal_dir)))\n",
    "print('total validation pneumonia images:', len(os.listdir(validation_pneumonia_dir)))"
   ]
  },
  {
   "cell_type": "markdown",
   "metadata": {
    "id": "ogbIvTO6mQd9"
   },
   "source": [
    "### print('total test covid images:', len(os.listdir(test_covid_dir)))\n",
    "print('total test normal images:', len(os.listdir(test_normal_dir)))\n",
    "print('total test pneumonia images:', len(os.listdir(test_pneumonia_dir)))"
   ]
  },
  {
   "cell_type": "code",
   "execution_count": 30,
   "metadata": {},
   "outputs": [],
   "source": [
    "from tensorflow.keras import layers\n",
    "from tensorflow.keras import models\n",
    "model = models.Sequential()\n",
    "model.add(layers.Conv2D(32, (3, 3), activation='relu',\n",
    "input_shape=(150, 150, 3)))\n",
    "model.add(layers.MaxPooling2D((2, 2)))\n",
    "model.add(layers.Conv2D(64, (3, 3), activation='relu'))\n",
    "model.add(layers.MaxPooling2D((2, 2)))\n",
    "model.add(layers.Conv2D(128, (3, 3), activation='relu'))\n",
    "model.add(layers.MaxPooling2D((2, 2)))\n",
    "model.add(layers.Conv2D(128, (3, 3), activation='relu'))\n",
    "model.add(layers.MaxPooling2D((2, 2)))\n",
    "model.add(layers.Flatten())\n",
    "model.add(layers.Dense(512, activation='relu'))\n",
    "model.add(layers.Dense(3, activation='softmax'))"
   ]
  },
  {
   "cell_type": "code",
   "execution_count": 31,
   "metadata": {},
   "outputs": [
    {
     "name": "stdout",
     "output_type": "stream",
     "text": [
      "Model: \"sequential\"\n",
      "_________________________________________________________________\n",
      "Layer (type)                 Output Shape              Param #   \n",
      "=================================================================\n",
      "conv2d (Conv2D)              (None, 148, 148, 32)      896       \n",
      "_________________________________________________________________\n",
      "max_pooling2d (MaxPooling2D) (None, 74, 74, 32)        0         \n",
      "_________________________________________________________________\n",
      "conv2d_1 (Conv2D)            (None, 72, 72, 64)        18496     \n",
      "_________________________________________________________________\n",
      "max_pooling2d_1 (MaxPooling2 (None, 36, 36, 64)        0         \n",
      "_________________________________________________________________\n",
      "conv2d_2 (Conv2D)            (None, 34, 34, 128)       73856     \n",
      "_________________________________________________________________\n",
      "max_pooling2d_2 (MaxPooling2 (None, 17, 17, 128)       0         \n",
      "_________________________________________________________________\n",
      "conv2d_3 (Conv2D)            (None, 15, 15, 128)       147584    \n",
      "_________________________________________________________________\n",
      "max_pooling2d_3 (MaxPooling2 (None, 7, 7, 128)         0         \n",
      "_________________________________________________________________\n",
      "flatten (Flatten)            (None, 6272)              0         \n",
      "_________________________________________________________________\n",
      "dense (Dense)                (None, 512)               3211776   \n",
      "_________________________________________________________________\n",
      "dense_1 (Dense)              (None, 3)                 1539      \n",
      "=================================================================\n",
      "Total params: 3,454,147\n",
      "Trainable params: 3,454,147\n",
      "Non-trainable params: 0\n",
      "_________________________________________________________________\n"
     ]
    }
   ],
   "source": [
    "model.summary()"
   ]
  },
  {
   "cell_type": "code",
   "execution_count": 32,
   "metadata": {},
   "outputs": [],
   "source": [
    "from keras import optimizers\n",
    "model.compile(loss='categorical_crossentropy', optimizer=\"rmsprop\", metrics=['acc'])"
   ]
  },
  {
   "cell_type": "code",
   "execution_count": 33,
   "metadata": {},
   "outputs": [
    {
     "name": "stdout",
     "output_type": "stream",
     "text": [
      "Found 3000 images belonging to 3 classes.\n",
      "Found 1500 images belonging to 3 classes.\n"
     ]
    }
   ],
   "source": [
    "from keras.preprocessing.image import ImageDataGenerator\n",
    "\n",
    "train_datagen = ImageDataGenerator(rescale=1./255)\n",
    "\n",
    "test_datagen = ImageDataGenerator(rescale=1./255)\n",
    "\n",
    "train_generator = train_datagen.flow_from_directory(train_dir,target_size=(150, 150),batch_size=10,class_mode='categorical')\n",
    "\n",
    "validation_generator = test_datagen.flow_from_directory(validation_dir, target_size=(150, 150), batch_size=10, class_mode='categorical')\n"
   ]
  },
  {
   "cell_type": "code",
   "execution_count": 34,
   "metadata": {},
   "outputs": [
    {
     "name": "stdout",
     "output_type": "stream",
     "text": [
      "data batch shape: (10, 150, 150, 3)\n",
      "labels batch shape: (10, 3)\n"
     ]
    }
   ],
   "source": [
    "#import PIL\n",
    "for data_batch, labels_batch in train_generator:\n",
    "    print('data batch shape:', data_batch.shape)\n",
    "    print('labels batch shape:', labels_batch.shape)\n",
    "    break"
   ]
  },
  {
   "cell_type": "code",
   "execution_count": 35,
   "metadata": {
    "scrolled": true
   },
   "outputs": [
    {
     "name": "stderr",
     "output_type": "stream",
     "text": [
      "C:\\Users\\Muazzam\\anaconda3\\envs\\keras\\lib\\site-packages\\keras\\engine\\training.py:1972: UserWarning: `Model.fit_generator` is deprecated and will be removed in a future version. Please use `Model.fit`, which supports generators.\n",
      "  warnings.warn('`Model.fit_generator` is deprecated and '\n"
     ]
    },
    {
     "name": "stdout",
     "output_type": "stream",
     "text": [
      "Epoch 1/5\n",
      "100/100 [==============================] - 46s 434ms/step - loss: 0.9958 - acc: 0.5300 - val_loss: 0.7254 - val_acc: 0.6780\n",
      "Epoch 2/5\n",
      "100/100 [==============================] - 48s 480ms/step - loss: 0.6574 - acc: 0.7280 - val_loss: 0.9044 - val_acc: 0.6400\n",
      "Epoch 3/5\n",
      "100/100 [==============================] - 36s 358ms/step - loss: 0.5080 - acc: 0.7810 - val_loss: 0.8756 - val_acc: 0.5680\n",
      "Epoch 4/5\n",
      "100/100 [==============================] - 38s 375ms/step - loss: 0.4051 - acc: 0.8450 - val_loss: 0.7328 - val_acc: 0.7440\n",
      "Epoch 5/5\n",
      "100/100 [==============================] - 38s 376ms/step - loss: 0.4062 - acc: 0.8680 - val_loss: 0.6420 - val_acc: 0.7140\n"
     ]
    }
   ],
   "source": [
    "history = model.fit_generator(train_generator,steps_per_epoch=100,epochs=5,validation_data=validation_generator,\n",
    "                              validation_steps=50)"
   ]
  },
  {
   "cell_type": "code",
   "execution_count": 36,
   "metadata": {},
   "outputs": [],
   "source": [
    "model=model.save('C:/Users/Muazzam/Desktop/dataset2/fyp.h5')"
   ]
  },
  {
   "cell_type": "code",
   "execution_count": 37,
   "metadata": {},
   "outputs": [],
   "source": [
    "# load_model_sample.py\n",
    "from keras.models import load_model\n",
    "from keras.preprocessing import image\n",
    "import matplotlib.pyplot as plt\n",
    "import numpy as np\n",
    "import os\n",
    "\n",
    "def load_image(img_path, show=False):\n",
    "\n",
    "    img = image.load_img(img_path, target_size=(150, 150))\n",
    "    img_tensor = image.img_to_array(img)                    # (height, width, channels)\n",
    "    img_tensor = np.expand_dims(img_tensor, axis=0)         # (1, height, width, channels), add a dimension because the model expects this shape: (batch_size, height, width, channels)\n",
    "    img_tensor /= 255.                                      # imshow expects values in the range [0, 1]\n",
    "\n",
    "    if show:\n",
    "        plt.imshow(img_tensor[0])\n",
    "        plt.axis('off')\n",
    "        plt.show()\n",
    "        return img_tensor\n",
    "\n",
    "\n",
    "if __name__ == \"__main__\":\n",
    "\n",
    "    # load model\n",
    "    model = load_model(\"C:/Users/Muazzam/Desktop/dataset1/covid.h5\")\n",
    "\n",
    "    # image path\n",
    "    img_path = 'C:/Users/Muazzam/Desktop/dataset1/test/covid/COVID-8.png'  \n",
    "    #img_path = '/media/data/dogscats/test1/19.jpg'      \n",
    "    \n",
    "\n",
    "   # load a single image\n",
    "    new_image = load_image(img_path, True)\n",
    "    #plt.imshow(new_image)\n",
    "    plt.show()\n",
    "    # check prediction\n",
    "    pred = model.predict(new_image)\n",
    "    print(pred)\n",
    "    if pred[0][0] > pred[0][1] and pred[0][0] > pred[0][2]:\n",
    "        print('Covid')\n",
    "    elif pred[0][1] > pred[0][0] and pred[0][1] > pred[0][2]:\n",
    "        print('Normal')\n",
    "    elif pred[0][2] > pred[0][0] and pred[0][2] > pred[0][1]:\n",
    "        print('Pneumonia')\n",
    "            \n",
    "\n"
   ]
  },
  {
   "cell_type": "code",
   "execution_count": null,
   "metadata": {},
   "outputs": [],
   "source": [
    "plt.plot(history.history['acc'],label=\"Training Accuracy\")\n",
    "plt.plot(history.history['val_acc'], label=\"Validation Accuracy\")\n",
    "plt.legend()\n",
    "plt.xlabel('epochs')\n",
    "plt.show()"
   ]
  },
  {
   "cell_type": "code",
   "execution_count": null,
   "metadata": {},
   "outputs": [],
   "source": [
    "import matplotlib.pyplot as plt\n",
    "plt.plot(history.history['loss'],label=\"Training Loss\")\n",
    "plt.plot(history.history['val_loss'], label=\"Validation Loss\")\n",
    "plt.legend()\n",
    "plt.xlabel('epochs')\n",
    "plt.show()"
   ]
  },
  {
   "cell_type": "code",
   "execution_count": null,
   "metadata": {},
   "outputs": [],
   "source": []
  },
  {
   "cell_type": "code",
   "execution_count": null,
   "metadata": {},
   "outputs": [],
   "source": []
  },
  {
   "cell_type": "code",
   "execution_count": null,
   "metadata": {},
   "outputs": [],
   "source": []
  },
  {
   "cell_type": "code",
   "execution_count": null,
   "metadata": {},
   "outputs": [],
   "source": []
  },
  {
   "cell_type": "code",
   "execution_count": null,
   "metadata": {},
   "outputs": [],
   "source": []
  },
  {
   "cell_type": "code",
   "execution_count": null,
   "metadata": {},
   "outputs": [],
   "source": []
  },
  {
   "cell_type": "code",
   "execution_count": null,
   "metadata": {},
   "outputs": [],
   "source": []
  },
  {
   "cell_type": "code",
   "execution_count": null,
   "metadata": {},
   "outputs": [],
   "source": []
  }
 ],
 "metadata": {
  "colab": {
   "name": "Muazzam.ipynb",
   "provenance": []
  },
  "kernelspec": {
   "display_name": "Python 3 (ipykernel)",
   "language": "python",
   "name": "python3"
  },
  "language_info": {
   "codemirror_mode": {
    "name": "ipython",
    "version": 3
   },
   "file_extension": ".py",
   "mimetype": "text/x-python",
   "name": "python",
   "nbconvert_exporter": "python",
   "pygments_lexer": "ipython3",
   "version": "3.9.12"
  }
 },
 "nbformat": 4,
 "nbformat_minor": 1
}
